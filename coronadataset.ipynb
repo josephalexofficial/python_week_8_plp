{
 "cells": [
  {
   "cell_type": "markdown",
   "id": "a375f586",
   "metadata": {},
   "source": [
    "# Analyzing Data with Pandas and Visualizing Results with Matplotlib\n",
    "## Assignment Solution"
   ]
  },
  {
   "cell_type": "code",
   "execution_count": null,
   "id": "410e6e96",
   "metadata": {},
   "outputs": [],
   "source": [
    "## Analyzing Data with Pandas and Visualizing Results with Matplotlib\n",
    "\n",
    "# Import necessary libraries\n",
    "import pandas as pd\n",
    "import numpy as np\n",
    "import matplotlib.pyplot as plt\n",
    "import seaborn as sns\n",
    "from sklearn.datasets import load_iris\n",
    "\n",
    "# Error Handling while Loading Dataset\n",
    "try:\n",
    "    # Load Iris dataset\n",
    "    iris = load_iris()\n",
    "    data = pd.DataFrame(data=iris.data, columns=iris.feature_names)\n",
    "    data['species'] = pd.Categorical.from_codes(iris.target, iris.target_names)\n",
    "    print(\"Dataset loaded successfully!\\n\")\n",
    "except Exception as e:\n",
    "    print(f\"An error occurred while loading the dataset: {e}\")\n",
    "\n",
    "# Display the first few rows\n",
    "data.head()\n",
    "\n",
    "# Explore the dataset\n",
    "print(\"\\nData Types:\\n\", data.dtypes)\n",
    "print(\"\\nMissing Values:\\n\", data.isnull().sum())\n",
    "\n",
    "# Basic Data Cleaning (if needed)\n",
    "# (Iris dataset is clean, but showing how to handle missing values)\n",
    "data = data.dropna()  # or you could use .fillna()\n",
    "\n",
    "# Basic Data Analysis\n",
    "print(\"\\nBasic Statistical Summary:\\n\", data.describe())\n",
    "\n",
    "# Grouping by species and calculating the mean\n",
    "grouped = data.groupby('species').mean()\n",
    "print(\"\\nMean values grouped by species:\\n\", grouped)\n",
    "\n",
    "# Findings\n",
    "print(\"\\nObservations:\")\n",
    "print(\"- Setosa species tends to have smaller petal measurements compared to others.\")\n",
    "print(\"- Virginica species generally has the largest measurements.\")\n",
    "\n",
    "# Visualization Setup\n",
    "sns.set(style=\"whitegrid\")\n",
    "\n",
    "# 1. Line Chart (Trend over Index - just for demonstration)\n",
    "plt.figure(figsize=(10, 6))\n",
    "for species in data['species'].unique():\n",
    "    subset = data[data['species'] == species]\n",
    "    plt.plot(subset.index, subset['sepal length (cm)'], label=species)\n",
    "plt.title('Sepal Length Trend per Species')\n",
    "plt.xlabel('Index')\n",
    "plt.ylabel('Sepal Length (cm)')\n",
    "plt.legend()\n",
    "plt.show()\n",
    "\n",
    "# 2. Bar Chart (Average petal length per species)\n",
    "plt.figure(figsize=(8,6))\n",
    "ax = sns.barplot(x='species', y='petal length (cm)', data=data, ci=None)\n",
    "ax.set_title('Average Petal Length per Species')\n",
    "ax.set_xlabel('Species')\n",
    "ax.set_ylabel('Petal Length (cm)')\n",
    "plt.show()\n",
    "\n",
    "# 3. Histogram (Distribution of Sepal Width)\n",
    "plt.figure(figsize=(8,6))\n",
    "sns.histplot(data['sepal width (cm)'], bins=20, kde=True)\n",
    "plt.title('Distribution of Sepal Width')\n",
    "plt.xlabel('Sepal Width (cm)')\n",
    "plt.ylabel('Count')\n",
    "plt.show()\n",
    "\n",
    "# 4. Scatter Plot (Sepal length vs Petal length)\n",
    "plt.figure(figsize=(8,6))\n",
    "sns.scatterplot(x='sepal length (cm)', y='petal length (cm)', hue='species', data=data)\n",
    "plt.title('Sepal Length vs Petal Length')\n",
    "plt.xlabel('Sepal Length (cm)')\n",
    "plt.ylabel('Petal Length (cm)')\n",
    "plt.legend()\n",
    "plt.show()\n"
   ]
  },
  {
   "cell_type": "markdown",
   "id": "b405c0f3",
   "metadata": {},
   "source": [
    "## Task 2: Basic Data Analysis"
   ]
  },
  {
   "cell_type": "markdown",
   "id": "e7a2ad7d",
   "metadata": {},
   "source": [
    "## Task 3: Data Visualization"
   ]
  },
  {
   "cell_type": "markdown",
   "id": "4d9e0716",
   "metadata": {},
   "source": [
    "## Final Observations"
   ]
  }
 ],
 "metadata": {
  "language_info": {
   "name": "python"
  }
 },
 "nbformat": 4,
 "nbformat_minor": 5
}
